{
  "nbformat": 4,
  "nbformat_minor": 0,
  "metadata": {
    "colab": {
      "name": "resize_image.ipynb",
      "provenance": [],
      "collapsed_sections": [],
      "toc_visible": true,
      "authorship_tag": "ABX9TyMRhYRLDZfra80XJwnbkLim",
      "include_colab_link": true
    },
    "kernelspec": {
      "name": "python3",
      "display_name": "Python 3"
    },
    "accelerator": "GPU"
  },
  "cells": [
    {
      "cell_type": "markdown",
      "metadata": {
        "id": "view-in-github",
        "colab_type": "text"
      },
      "source": [
        "<a href=\"https://colab.research.google.com/github/rojandhimal/resize_image_googleColab/blob/main/resize_image.ipynb\" target=\"_parent\"><img src=\"https://colab.research.google.com/assets/colab-badge.svg\" alt=\"Open In Colab\"/></a>"
      ]
    },
    {
      "cell_type": "markdown",
      "metadata": {
        "id": "1K-7Zzqy6mcD"
      },
      "source": [
        "Clone your image dataset repo"
      ]
    },
    {
      "cell_type": "code",
      "metadata": {
        "colab": {
          "base_uri": "https://localhost:8080/"
        },
        "id": "WR2Bn8Ebvg_S",
        "outputId": "19112575-93cf-49e2-de23-92a55de2b357"
      },
      "source": [
        "!git clone https://github.com/rojandhimal/Dog-Breed-Classifier.git  #put your github repo here"
      ],
      "execution_count": null,
      "outputs": [
        {
          "output_type": "stream",
          "text": [
            "Cloning into 'Dog-Breed-Classifier'...\n",
            "remote: Enumerating objects: 87, done.\u001b[K\n",
            "remote: Counting objects: 100% (87/87), done.\u001b[K\n",
            "remote: Compressing objects: 100% (71/71), done.\u001b[K\n",
            "remote: Total 87 (delta 33), reused 62 (delta 15), pack-reused 0\u001b[K\n",
            "Unpacking objects: 100% (87/87), done.\n"
          ],
          "name": "stdout"
        }
      ]
    },
    {
      "cell_type": "code",
      "metadata": {
        "colab": {
          "base_uri": "https://localhost:8080/"
        },
        "id": "Gs1-8ojEwVQ_",
        "outputId": "44deaa9a-3f30-4d81-e8eb-fcbb89e2962a"
      },
      "source": [
        "cd Dog-Breed-Classifier/ # go to repo directory"
      ],
      "execution_count": null,
      "outputs": [
        {
          "output_type": "stream",
          "text": [
            "/content/Dog-Breed-Classifier\n"
          ],
          "name": "stdout"
        }
      ]
    },
    {
      "cell_type": "code",
      "metadata": {
        "colab": {
          "base_uri": "https://localhost:8080/"
        },
        "id": "iqZ_JHnyv6Qk",
        "outputId": "e9a25207-4794-4e30-f5d6-65fb5ada639e"
      },
      "source": [
        "import cv2\r\n",
        "import numpy as np\r\n",
        "import os\r\n",
        "PATH = os.getcwd()\r\n",
        "resize_all_image_path = PATH + '/images' #give SOURCE  image PATH\r\n",
        "print(resize_all_image_path)\r\n",
        "new_cat = []\r\n",
        "for x in os.listdir(resize_all_image_path):\r\n",
        "    new_cat.append(x)\r\n",
        "    print(x)\r\n",
        "IMG_SIZE = 32\r\n"
      ],
      "execution_count": null,
      "outputs": [
        {
          "output_type": "stream",
          "text": [
            "/content/Dog-Breed-Classifier/images\n",
            "category1\n",
            ".ipynb_checkpoints\n",
            "category2\n"
          ],
          "name": "stdout"
        }
      ]
    },
    {
      "cell_type": "markdown",
      "metadata": {
        "id": "9eea-uk46W55"
      },
      "source": [
        "*** Beofre running code make sure you have empty destination folder asme as source folder to store resized image or path to where you want to store***"
      ]
    },
    {
      "cell_type": "code",
      "metadata": {
        "id": "QY03dunKw58b"
      },
      "source": [
        "def resize_all_image():\r\n",
        "  for catagory in new_cat:\r\n",
        "    path = os.path.join(resize_all_image_path, catagory)\r\n",
        "    for img in os.listdir(path):\r\n",
        "      try:\r\n",
        "        img_array =cv2.imread(os.path.join(path,img),cv2.IMREAD_GRAYSCALE)\r\n",
        "        new_array = cv2.resize(img_array,(IMG_SIZE,IMG_SIZE))\r\n",
        "        x=str(img)\r\n",
        "        img_loc='newimages/'+catagory+'/'+x #DESTINATION PATH\r\n",
        "        cv2.imwrite(img_loc,new_array)\r\n",
        "      except Exception as e:\r\n",
        "        pass\r\n",
        "    print(\"Resized and shave character {}\".format(catagory))"
      ],
      "execution_count": 17,
      "outputs": []
    },
    {
      "cell_type": "code",
      "metadata": {
        "colab": {
          "base_uri": "https://localhost:8080/"
        },
        "id": "fk5HXErPywvD",
        "outputId": "93c156ec-6df2-4557-cf48-18a858c9e246"
      },
      "source": [
        "resize_all_image()\r\n",
        "print(\"Resized and saving Completed!\")"
      ],
      "execution_count": 18,
      "outputs": [
        {
          "output_type": "stream",
          "text": [
            "Resized and shave character category1\n",
            "Resized and shave character .ipynb_checkpoints\n",
            "Resized and shave character category2\n",
            "Resized and saving Completed!\n"
          ],
          "name": "stdout"
        }
      ]
    },
    {
      "cell_type": "code",
      "metadata": {
        "id": "Yz3YDWDjzEh6"
      },
      "source": [
        ""
      ],
      "execution_count": null,
      "outputs": []
    }
  ]
}